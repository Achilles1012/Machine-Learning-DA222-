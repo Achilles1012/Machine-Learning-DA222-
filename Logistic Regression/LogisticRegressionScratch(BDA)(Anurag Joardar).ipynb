{
 "cells": [
  {
   "cell_type": "markdown",
   "metadata": {},
   "source": [
    "Name: Anurag Joardar\n",
    "Roll No: B2330021\n",
    "Dept: BDA(2023-25)"
   ]
  },
  {
   "cell_type": "markdown",
   "metadata": {},
   "source": [
    "Question: Write your own logistic regression model for a binary classification problem and compare your results with those from the same model using scikit-learn."
   ]
  },
  {
   "cell_type": "markdown",
   "metadata": {},
   "source": [
    "# Libraries #"
   ]
  },
  {
   "cell_type": "code",
   "execution_count": 48,
   "metadata": {},
   "outputs": [],
   "source": [
    "import numpy as np\n",
    "import matplotlib.pyplot as plt\n",
    "from sklearn import linear_model\n",
    "from sklearn.model_selection import train_test_split\n",
    "from sklearn.datasets import make_classification\n",
    "from sklearn import metrics"
   ]
  },
  {
   "cell_type": "markdown",
   "metadata": {},
   "source": [
    "# Logistic Regression Model From Scratch #"
   ]
  },
  {
   "cell_type": "code",
   "execution_count": 49,
   "metadata": {},
   "outputs": [],
   "source": [
    "class LogisticRegression_Scratch:\n",
    "    def __init__(self, learning_rate=0.001, n_iters=1000):\n",
    "        self.lr = learning_rate\n",
    "        self.n_iters = n_iters\n",
    "        self.weights = None\n",
    "        self.bias = None\n",
    "        self.cost_history = []\n",
    "         \n",
    "    #Sigmoid method\n",
    "    def _sigmoid(self, x):\n",
    "        return 1 / (1 + np.exp(-x))\n",
    "\n",
    "    def compute_loss(self, y_true, y_pred):\n",
    "        # Binary Cross Entropy(BCE)\n",
    "        epsilon = 1e-9\n",
    "        y1 = y_true * np.log(y_pred + epsilon)\n",
    "        y2 = (1-y_true) * np.log(1 - y_pred + epsilon)\n",
    "        return -np.mean(y1 + y2)\n",
    "\n",
    "    def feed_forward(self,X):\n",
    "        z = np.dot(X, self.weights) + self.bias\n",
    "        A = self._sigmoid(z)\n",
    "        return A\n",
    "\n",
    "    def fit(self, X, y):\n",
    "        n_samples, n_features = X.shape\n",
    "\n",
    "        self.weights = np.zeros(n_features)\n",
    "        self.bias = 0\n",
    "\n",
    "        # Gradient descent\n",
    "        for i in range(self.n_iters):\n",
    "            A = self.feed_forward(X)\n",
    "            dz = A - y \n",
    "\n",
    "            dw = (1 / n_samples) * np.dot(X.T, dz)\n",
    "            db = (1 / n_samples) * np.sum(A - y)\n",
    "            \n",
    "            self.weights -= self.lr * dw\n",
    "            self.bias -= self.lr * db\n",
    "\n",
    "            cost = self.compute_loss(y, A)\n",
    "            self.cost_history.append(cost)\n",
    "\n",
    "            if i % 100 == 0:\n",
    "                print(f\"Epoch {i}, Cost: {cost}\")\n",
    "            \n",
    "    def predict(self, X):\n",
    "        y_hat = np.dot(X, self.weights) + self.bias\n",
    "        y_predicted = self._sigmoid(y_hat)\n",
    "        y_predicted_cls = [1 if i > 0.5 else 0 for i in y_predicted]\n",
    "        \n",
    "        return np.array(y_predicted_cls)\n",
    "    \n",
    "    def plot_cost_history(self):\n",
    "        plt.plot(range(1, self.n_iters + 1), self.cost_history)\n",
    "        plt.title(\"Cost History\")\n",
    "        plt.xlabel(\"Iteration\")\n",
    "        plt.ylabel(\"Cost\")\n",
    "        plt.show()"
   ]
  },
  {
   "cell_type": "markdown",
   "metadata": {},
   "source": [
    "# Accuracy of Scratch Model #"
   ]
  },
  {
   "cell_type": "code",
   "execution_count": 50,
   "metadata": {},
   "outputs": [
    {
     "name": "stdout",
     "output_type": "stream",
     "text": [
      "Epoch 0, Cost: 0.6931471785599453\n",
      "Epoch 100, Cost: 0.6919973980739057\n",
      "Epoch 200, Cost: 0.690853393344241\n",
      "Epoch 300, Cost: 0.6897151347051461\n",
      "Epoch 400, Cost: 0.6885825925619975\n",
      "Epoch 500, Cost: 0.6874557373929204\n",
      "Epoch 600, Cost: 0.6863345397503234\n",
      "Epoch 700, Cost: 0.6852189702624\n",
      "Epoch 800, Cost: 0.6841089996346004\n",
      "Epoch 900, Cost: 0.6830045986510693\n",
      "Test accuracy of Scratch Model: 0.500\n",
      "RMSE is 0.39370039370059057\n"
     ]
    },
    {
     "data": {
      "image/png": "[encoded data removed]",
      "text/plain": [
       "<Figure size 640x480 with 1 Axes>"
      ]
     },
     "metadata": {},
     "output_type": "display_data"
    }
   ],
   "source": [
    "X, y = make_classification(n_samples=1000, n_features=2, n_informative=2, n_redundant=0, n_clusters_per_class=1, random_state=2) \n",
    "X_train, X_test, y_train, y_test = train_test_split(X, y, test_size=0.2, random_state=1200)\n",
    "\n",
    "#Normalizing Data\n",
    "X_train = (X_train - np.mean(X_train, axis=0)) / np.std(X_train, axis=0)\n",
    "X_test = (X_test - np.mean(X_test, axis=0)) / np.std(X_test, axis=0)\n",
    "\n",
    "reg = LogisticRegression_Scratch(learning_rate=0.0001, n_iters=1000)\n",
    "reg.fit(X_train, y_train)\n",
    "predictions = reg.predict(X_test)\n",
    "accuracy=np.mean(predictions == y_test.reshape(-1, 1))\n",
    "print(\"Test accuracy of Scratch Model: {0:.3f}\".format(accuracy))\n",
    "\n",
    "rmse_logregS=metrics.mean_squared_error(y_test,predictions,squared=False)\n",
    "print('RMSE is',rmse_logregS)\n",
    "\n",
    "reg.plot_cost_history()"
   ]
  },
  {
   "cell_type": "markdown",
   "metadata": {},
   "source": [
    "# Accuracy of Scikit-Learn Model #"
   ]
  },
  {
   "cell_type": "code",
   "execution_count": 51,
   "metadata": {},
   "outputs": [
    {
     "name": "stdout",
     "output_type": "stream",
     "text": [
      "Test accuracy of Scikit-Learn's Logistic Regression Model: 0.840\n",
      "RMSE is 0.4\n"
     ]
    }
   ],
   "source": [
    "# Use scikit-learn's Logistic Regression\n",
    "\n",
    "model_sklearn = linear_model.LogisticRegression()\n",
    "model_sklearn.fit(X_train, y_train)\n",
    "\n",
    "predictions_sklearn = model_sklearn.predict(X_test)\n",
    "\n",
    "accuracy_sklearn = np.mean(predictions_sklearn == y_test)\n",
    "\n",
    "print(\"Test accuracy of Scikit-Learn's Logistic Regression Model: {0:.3f}\".format(accuracy_sklearn))\n",
    "\n",
    "rmse_logreg=metrics.mean_squared_error(y_test,predictions_sklearn,squared=False)\n",
    "print('RMSE is',rmse_logreg)\n"
   ]
  }
 ],
 "metadata": {
  "kernelspec": {
   "display_name": "Python 3",
   "language": "python",
   "name": "python3"
  },
  "language_info": {
   "codemirror_mode": {
    "name": "ipython",
    "version": 3
   },
   "file_extension": ".py",
   "mimetype": "text/x-python",
   "name": "python",
   "nbconvert_exporter": "python",
   "pygments_lexer": "ipython3",
   "version": "3.11.7"
  }
 },
 "nbformat": 4,
 "nbformat_minor": 2
}
